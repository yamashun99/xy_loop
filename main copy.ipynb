{
 "cells": [
  {
   "cell_type": "code",
   "execution_count": 43,
   "metadata": {},
   "outputs": [],
   "source": [
    "import random\n",
    "import conf\n",
    "import importlib\n",
    "import numpy as np\n",
    "\n",
    "importlib.reload(conf)\n",
    "from conf import *"
   ]
  },
  {
   "cell_type": "code",
   "execution_count": 44,
   "metadata": {},
   "outputs": [],
   "source": [
    "p = {\"beta\": 10, \"J\": 1, \"L\": 2}\n",
    "c = Conf(**p)"
   ]
  },
  {
   "cell_type": "code",
   "execution_count": null,
   "metadata": {},
   "outputs": [],
   "source": []
  },
  {
   "cell_type": "code",
   "execution_count": 28,
   "metadata": {},
   "outputs": [
    {
     "data": {
      "text/plain": [
       "Kink(ktau=1.0, graph='d')"
      ]
     },
     "execution_count": 28,
     "metadata": {},
     "output_type": "execute_result"
    }
   ],
   "source": [
    "Kink(1.0, \"d\")"
   ]
  },
  {
   "cell_type": "code",
   "execution_count": 29,
   "metadata": {},
   "outputs": [],
   "source": [
    "c.add_kinks(0, 1.1, \"d\")\n",
    "c.add_kinks(0, 9.1, \"d\")\n",
    "c.add_kinks(1, 3.1, \"d\")\n",
    "c.add_kinks(1, 6.1, \"d\")"
   ]
  },
  {
   "cell_type": "code",
   "execution_count": 30,
   "metadata": {},
   "outputs": [
    {
     "name": "stdout",
     "output_type": "stream",
     "text": [
      "[[Kink(ktau=1.1, graph='d'), Kink(ktau=9.1, graph='d')], [Kink(ktau=3.1, graph='d'), Kink(ktau=6.1, graph='d')]]\n"
     ]
    }
   ],
   "source": [
    "print(c.kinks)"
   ]
  },
  {
   "cell_type": "code",
   "execution_count": 31,
   "metadata": {},
   "outputs": [],
   "source": [
    "c.make_b()\n",
    "c.make_btilde()"
   ]
  },
  {
   "cell_type": "code",
   "execution_count": 32,
   "metadata": {},
   "outputs": [
    {
     "name": "stdout",
     "output_type": "stream",
     "text": [
      "[[[0, 0], [0, 1], [0, 2], [0, 3]], [[1, 0], [1, 1], [1, 2], [1, 3]]]\n"
     ]
    }
   ],
   "source": [
    "c.cluster_update()"
   ]
  },
  {
   "cell_type": "code",
   "execution_count": 33,
   "metadata": {},
   "outputs": [
    {
     "data": {
      "text/plain": [
       "[[[0, 0], [0, 1], [0, 0], [0, 1]], [[0, 3], [0, 0], [0, 3], [0, 0]]]"
      ]
     },
     "execution_count": 33,
     "metadata": {},
     "output_type": "execute_result"
    }
   ],
   "source": [
    "c.cluster"
   ]
  },
  {
   "cell_type": "code",
   "execution_count": 34,
   "metadata": {},
   "outputs": [
    {
     "data": {
      "text/plain": [
       "[[[0, -1]], [[0, -1]]]"
      ]
     },
     "execution_count": 34,
     "metadata": {},
     "output_type": "execute_result"
    }
   ],
   "source": [
    "c.spin"
   ]
  },
  {
   "cell_type": "code",
   "execution_count": 35,
   "metadata": {},
   "outputs": [
    {
     "data": {
      "text/plain": [
       "[[b(kx=0, ktau=1.1, iktau=0, LR='L'),\n",
       "  b(kx=1, ktau=3.1, iktau=0, LR='R'),\n",
       "  b(kx=1, ktau=6.1, iktau=1, LR='R'),\n",
       "  b(kx=0, ktau=9.1, iktau=1, LR='L')],\n",
       " [b(kx=0, ktau=1.1, iktau=0, LR='R'),\n",
       "  b(kx=1, ktau=3.1, iktau=0, LR='L'),\n",
       "  b(kx=1, ktau=6.1, iktau=1, LR='L'),\n",
       "  b(kx=0, ktau=9.1, iktau=1, LR='R')]]"
      ]
     },
     "execution_count": 35,
     "metadata": {},
     "output_type": "execute_result"
    }
   ],
   "source": [
    "c.bs"
   ]
  },
  {
   "cell_type": "code",
   "execution_count": 36,
   "metadata": {},
   "outputs": [
    {
     "name": "stdout",
     "output_type": "stream",
     "text": [
      "[[0, -1], [1.1, -1], [3.1, -1], [6.1, -1], [9.1, -1]]\n",
      "5\n",
      "[[0, -1], [1.1, -1], [3.1, -1], [6.1, -1], [9.1, -1]]\n",
      "5\n"
     ]
    }
   ],
   "source": [
    "c.inert_spin(c.kinks)"
   ]
  },
  {
   "cell_type": "code",
   "execution_count": 37,
   "metadata": {},
   "outputs": [
    {
     "data": {
      "text/plain": [
       "[[[1.1, -1], [3.1, -1], [6.1, -1], [9.1, -1]],\n",
       " [[1.1, -1], [3.1, -1], [6.1, -1], [9.1, -1]]]"
      ]
     },
     "execution_count": 37,
     "metadata": {},
     "output_type": "execute_result"
    }
   ],
   "source": [
    "c.spin"
   ]
  },
  {
   "cell_type": "code",
   "execution_count": 38,
   "metadata": {},
   "outputs": [],
   "source": [
    "c.spin_update()"
   ]
  },
  {
   "cell_type": "code",
   "execution_count": 39,
   "metadata": {},
   "outputs": [
    {
     "data": {
      "text/plain": [
       "[[[1.1, -1], [3.1, -1], [6.1, -1], [9.1, -1]],\n",
       " [[1.1, -1], [3.1, -1], [6.1, -1], [9.1, -1]]]"
      ]
     },
     "execution_count": 39,
     "metadata": {},
     "output_type": "execute_result"
    }
   ],
   "source": [
    "c.spin"
   ]
  },
  {
   "cell_type": "code",
   "execution_count": 40,
   "metadata": {},
   "outputs": [
    {
     "name": "stdout",
     "output_type": "stream",
     "text": [
      "d\n",
      "d\n",
      "d\n",
      "d\n"
     ]
    }
   ],
   "source": [
    "c.conf_update()"
   ]
  },
  {
   "cell_type": "code",
   "execution_count": 42,
   "metadata": {},
   "outputs": [
    {
     "data": {
      "text/plain": [
       "[[Kink(ktau=1.1, graph='h'), Kink(ktau=9.1, graph='d')],\n",
       " [Kink(ktau=3.1, graph='h'), Kink(ktau=6.1, graph='d')]]"
      ]
     },
     "execution_count": 42,
     "metadata": {},
     "output_type": "execute_result"
    }
   ],
   "source": [
    "c.kinks"
   ]
  },
  {
   "cell_type": "code",
   "execution_count": 41,
   "metadata": {},
   "outputs": [
    {
     "name": "stdout",
     "output_type": "stream",
     "text": [
      "l(a=1, b=2)\n"
     ]
    },
    {
     "ename": "AttributeError",
     "evalue": "can't set attribute",
     "output_type": "error",
     "traceback": [
      "\u001b[0;31m---------------------------------------------------------------------------\u001b[0m",
      "\u001b[0;31mAttributeError\u001b[0m                            Traceback (most recent call last)",
      "\u001b[1;32m/root/xy_loop/main.ipynb セル 16\u001b[0m line \u001b[0;36m4\n\u001b[1;32m      <a href='vscode-notebook-cell://attached-container%2B7b22636f6e7461696e65724e616d65223a222f6d797562756e7475222c2273657474696e6773223a7b22636f6e74657874223a226465736b746f702d6c696e7578227d7d/root/xy_loop/main.ipynb#X20sdnNjb2RlLXJlbW90ZQ%3D%3D?line=1'>2</a>\u001b[0m a \u001b[39m=\u001b[39m l(\u001b[39m1\u001b[39m, \u001b[39m2\u001b[39m)\n\u001b[1;32m      <a href='vscode-notebook-cell://attached-container%2B7b22636f6e7461696e65724e616d65223a222f6d797562756e7475222c2273657474696e6773223a7b22636f6e74657874223a226465736b746f702d6c696e7578227d7d/root/xy_loop/main.ipynb#X20sdnNjb2RlLXJlbW90ZQ%3D%3D?line=2'>3</a>\u001b[0m \u001b[39mprint\u001b[39m(a)\n\u001b[0;32m----> <a href='vscode-notebook-cell://attached-container%2B7b22636f6e7461696e65724e616d65223a222f6d797562756e7475222c2273657474696e6773223a7b22636f6e74657874223a226465736b746f702d6c696e7578227d7d/root/xy_loop/main.ipynb#X20sdnNjb2RlLXJlbW90ZQ%3D%3D?line=3'>4</a>\u001b[0m a\u001b[39m.\u001b[39;49ma \u001b[39m=\u001b[39m \u001b[39m10\u001b[39m\n",
      "\u001b[0;31mAttributeError\u001b[0m: can't set attribute"
     ]
    }
   ],
   "source": [
    "l = namedtuple(\"l\", [\"a\", \"b\"])\n",
    "a = l(1, 2)\n",
    "print(a)\n",
    "a.a = 10"
   ]
  },
  {
   "cell_type": "code",
   "execution_count": null,
   "metadata": {},
   "outputs": [],
   "source": []
  }
 ],
 "metadata": {
  "kernelspec": {
   "display_name": "Python 3",
   "language": "python",
   "name": "python3"
  },
  "language_info": {
   "codemirror_mode": {
    "name": "ipython",
    "version": 3
   },
   "file_extension": ".py",
   "mimetype": "text/x-python",
   "name": "python",
   "nbconvert_exporter": "python",
   "pygments_lexer": "ipython3",
   "version": "3.11.5"
  },
  "orig_nbformat": 4
 },
 "nbformat": 4,
 "nbformat_minor": 2
}
