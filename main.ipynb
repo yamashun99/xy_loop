{
 "cells": [
  {
   "cell_type": "code",
   "execution_count": 908,
   "metadata": {},
   "outputs": [],
   "source": [
    "import random\n",
    "import conf\n",
    "import importlib\n",
    "import numpy as np\n",
    "\n",
    "importlib.reload(conf)\n",
    "from conf import *"
   ]
  },
  {
   "cell_type": "code",
   "execution_count": 909,
   "metadata": {},
   "outputs": [],
   "source": [
    "p = {\"beta\": 10, \"J\": 1, \"L\": 2}\n",
    "c = Conf(**p)"
   ]
  },
  {
   "cell_type": "code",
   "execution_count": 910,
   "metadata": {},
   "outputs": [],
   "source": [
    "c.add_kinks(0, 1.1, \"d\")\n",
    "c.add_kinks(0, 9.1, \"d\")\n",
    "c.add_kinks(1, 3.1, \"d\")\n",
    "c.add_kinks(1, 6.1, \"d\")"
   ]
  },
  {
   "cell_type": "code",
   "execution_count": 911,
   "metadata": {},
   "outputs": [
    {
     "name": "stdout",
     "output_type": "stream",
     "text": [
      "[[kink(ktau=1.1, graph='d'), kink(ktau=9.1, graph='d')], [kink(ktau=3.1, graph='d'), kink(ktau=6.1, graph='d')]]\n"
     ]
    }
   ],
   "source": [
    "print(c.kinks)"
   ]
  },
  {
   "cell_type": "code",
   "execution_count": 912,
   "metadata": {},
   "outputs": [],
   "source": [
    "c.make_b()\n",
    "c.make_btilde()"
   ]
  },
  {
   "cell_type": "code",
   "execution_count": 913,
   "metadata": {},
   "outputs": [
    {
     "name": "stdout",
     "output_type": "stream",
     "text": [
      "[[[0, 0], [0, 1], [0, 2], [0, 3]], [[1, 0], [1, 1], [1, 2], [1, 3]]]\n"
     ]
    }
   ],
   "source": [
    "c.cluster_update()"
   ]
  },
  {
   "cell_type": "code",
   "execution_count": 914,
   "metadata": {},
   "outputs": [
    {
     "data": {
      "text/plain": [
       "[[[0, 0], [0, 1], [0, 0], [0, 1]], [[0, 3], [0, 0], [0, 3], [0, 0]]]"
      ]
     },
     "execution_count": 914,
     "metadata": {},
     "output_type": "execute_result"
    }
   ],
   "source": [
    "c.cluster"
   ]
  },
  {
   "cell_type": "code",
   "execution_count": 915,
   "metadata": {},
   "outputs": [
    {
     "data": {
      "text/plain": [
       "[[[0, -1]], [[0, -1]]]"
      ]
     },
     "execution_count": 915,
     "metadata": {},
     "output_type": "execute_result"
    }
   ],
   "source": [
    "c.spin"
   ]
  },
  {
   "cell_type": "code",
   "execution_count": 916,
   "metadata": {},
   "outputs": [
    {
     "data": {
      "text/plain": [
       "[[b(kx=0, ktau=1.1, iktau=0, LR='L'),\n",
       "  b(kx=1, ktau=3.1, iktau=0, LR='R'),\n",
       "  b(kx=1, ktau=6.1, iktau=1, LR='R'),\n",
       "  b(kx=0, ktau=9.1, iktau=1, LR='L')],\n",
       " [b(kx=0, ktau=1.1, iktau=0, LR='R'),\n",
       "  b(kx=1, ktau=3.1, iktau=0, LR='L'),\n",
       "  b(kx=1, ktau=6.1, iktau=1, LR='L'),\n",
       "  b(kx=0, ktau=9.1, iktau=1, LR='R')]]"
      ]
     },
     "execution_count": 916,
     "metadata": {},
     "output_type": "execute_result"
    }
   ],
   "source": [
    "c.bs"
   ]
  },
  {
   "cell_type": "code",
   "execution_count": 917,
   "metadata": {},
   "outputs": [
    {
     "name": "stdout",
     "output_type": "stream",
     "text": [
      "[[0, -1], [1.1, -1], [3.1, -1], [6.1, -1], [9.1, -1]]\n",
      "5\n",
      "[[0, -1], [1.1, -1], [3.1, -1], [6.1, -1], [9.1, -1]]\n",
      "5\n"
     ]
    }
   ],
   "source": [
    "c.inert_spin(c.kinks)"
   ]
  },
  {
   "cell_type": "code",
   "execution_count": 918,
   "metadata": {},
   "outputs": [
    {
     "data": {
      "text/plain": [
       "[[[1.1, -1], [3.1, -1], [6.1, -1], [9.1, -1]],\n",
       " [[1.1, -1], [3.1, -1], [6.1, -1], [9.1, -1]]]"
      ]
     },
     "execution_count": 918,
     "metadata": {},
     "output_type": "execute_result"
    }
   ],
   "source": [
    "c.spin"
   ]
  },
  {
   "cell_type": "code",
   "execution_count": 919,
   "metadata": {},
   "outputs": [],
   "source": [
    "c.spin_update()"
   ]
  },
  {
   "cell_type": "code",
   "execution_count": 920,
   "metadata": {},
   "outputs": [
    {
     "data": {
      "text/plain": [
       "[[[1.1, 1], [3.1, -1], [6.1, 1], [9.1, -1]],\n",
       " [[1.1, -1], [3.1, 1], [6.1, -1], [9.1, 1]]]"
      ]
     },
     "execution_count": 920,
     "metadata": {},
     "output_type": "execute_result"
    }
   ],
   "source": [
    "c.spin"
   ]
  },
  {
   "cell_type": "code",
   "execution_count": 921,
   "metadata": {},
   "outputs": [
    {
     "name": "stdout",
     "output_type": "stream",
     "text": [
      "d\n"
     ]
    },
    {
     "ename": "AttributeError",
     "evalue": "can't set attribute",
     "output_type": "error",
     "traceback": [
      "\u001b[0;31m---------------------------------------------------------------------------\u001b[0m",
      "\u001b[0;31mAttributeError\u001b[0m                            Traceback (most recent call last)",
      "\u001b[1;32m/root/xy_loop/main.ipynb セル 14\u001b[0m line \u001b[0;36m1\n\u001b[0;32m----> <a href='vscode-notebook-cell://attached-container%2B7b22636f6e7461696e65724e616d65223a222f6d797562756e7475222c2273657474696e6773223a7b22636f6e74657874223a226465736b746f702d6c696e7578227d7d/root/xy_loop/main.ipynb#X63sdnNjb2RlLXJlbW90ZQ%3D%3D?line=0'>1</a>\u001b[0m c\u001b[39m.\u001b[39;49mconf_update()\n",
      "File \u001b[0;32m~/xy_loop/conf.py:137\u001b[0m, in \u001b[0;36mConf.conf_update\u001b[0;34m(self)\u001b[0m\n\u001b[1;32m    135\u001b[0m     \u001b[39mfor\u001b[39;00m iktau \u001b[39min\u001b[39;00m \u001b[39mrange\u001b[39m(\u001b[39mlen\u001b[39m(\u001b[39mself\u001b[39m\u001b[39m.\u001b[39mkinks[kx])):\n\u001b[1;32m    136\u001b[0m         \u001b[39mprint\u001b[39m(\u001b[39mself\u001b[39m\u001b[39m.\u001b[39mkinks[kx][iktau]\u001b[39m.\u001b[39mgraph)\n\u001b[0;32m--> 137\u001b[0m         \u001b[39mself\u001b[39;49m\u001b[39m.\u001b[39;49mkinks[kx][iktau]\u001b[39m.\u001b[39;49mgraph \u001b[39m=\u001b[39m random\u001b[39m.\u001b[39mchoice([\u001b[39m\"\u001b[39m\u001b[39mh\u001b[39m\u001b[39m\"\u001b[39m, \u001b[39m\"\u001b[39m\u001b[39md\u001b[39m\u001b[39m\"\u001b[39m])\n\u001b[1;32m    138\u001b[0m \u001b[39mfor\u001b[39;00m kx \u001b[39min\u001b[39;00m \u001b[39mrange\u001b[39m(\u001b[39mself\u001b[39m\u001b[39m.\u001b[39mL):\n\u001b[1;32m    139\u001b[0m     tauk, n \u001b[39m=\u001b[39m gen_uniformly_events(\u001b[39mself\u001b[39m\u001b[39m.\u001b[39mbeta, \u001b[39mself\u001b[39m\u001b[39m.\u001b[39mlam)\n",
      "\u001b[0;31mAttributeError\u001b[0m: can't set attribute"
     ]
    }
   ],
   "source": [
    "c.conf_update()"
   ]
  },
  {
   "cell_type": "code",
   "execution_count": null,
   "metadata": {},
   "outputs": [],
   "source": [
    "l = namedtuple(\"l\", [\"a\", \"b\"])\n",
    "a = l(1, 2)\n"
   ]
  }
 ],
 "metadata": {
  "kernelspec": {
   "display_name": "Python 3",
   "language": "python",
   "name": "python3"
  },
  "language_info": {
   "codemirror_mode": {
    "name": "ipython",
    "version": 3
   },
   "file_extension": ".py",
   "mimetype": "text/x-python",
   "name": "python",
   "nbconvert_exporter": "python",
   "pygments_lexer": "ipython3",
   "version": "3.11.5"
  },
  "orig_nbformat": 4
 },
 "nbformat": 4,
 "nbformat_minor": 2
}
