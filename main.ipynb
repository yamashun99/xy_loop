{
 "cells": [
  {
   "cell_type": "code",
   "execution_count": 183,
   "metadata": {},
   "outputs": [],
   "source": [
    "import random\n",
    "import conf\n",
    "import importlib\n",
    "import numpy as np\n",
    "\n",
    "importlib.reload(conf)\n",
    "from conf import *"
   ]
  },
  {
   "cell_type": "code",
   "execution_count": 184,
   "metadata": {},
   "outputs": [
    {
     "name": "stdout",
     "output_type": "stream",
     "text": [
      "[-1, -1, -1, -1, -1, 1, -1, -1, -1, -1]\n"
     ]
    }
   ],
   "source": [
    "p = {\"beta\": 10, \"J\": 1, \"L\": 10}\n",
    "k = Wolrdline(**p)\n",
    "k.initial_spin[5] = 1\n",
    "k.initial_spin[1] = 1\n",
    "print(k.initial_spin)"
   ]
  },
  {
   "cell_type": "code",
   "execution_count": 185,
   "metadata": {},
   "outputs": [
    {
     "name": "stdout",
     "output_type": "stream",
     "text": [
      "[[kink(tau=1, spin=[-1, 1]), kink(tau=9, spin=[1, -1])], [kink(tau=4, spin=[-1, 1]), kink(tau=5, spin=[1, -1])], [], [], [], [], [], [], [], []]\n"
     ]
    }
   ],
   "source": [
    "k.add_kinks(0, 1, [-1, 1])\n",
    "k.add_kinks(0, 9, [1, -1])\n",
    "k.add_kinks(1, 4, [-1, 1])\n",
    "k.add_kinks(1, 5, [1, -1])\n",
    "print(k.kinks)"
   ]
  },
  {
   "cell_type": "code",
   "execution_count": 186,
   "metadata": {},
   "outputs": [],
   "source": [
    "ups = k.get_ups()"
   ]
  },
  {
   "cell_type": "code",
   "execution_count": 187,
   "metadata": {},
   "outputs": [
    {
     "data": {
      "text/plain": [
       "(6, 3)"
      ]
     },
     "execution_count": 187,
     "metadata": {},
     "output_type": "execute_result"
    }
   ],
   "source": [
    "ups.shape"
   ]
  },
  {
   "cell_type": "code",
   "execution_count": 188,
   "metadata": {},
   "outputs": [
    {
     "data": {
      "text/plain": [
       "(-1.0, 11.0)"
      ]
     },
     "execution_count": 188,
     "metadata": {},
     "output_type": "execute_result"
    },
    {
     "data": {
      "image/png": "[encoded data removed]",
      "text/plain": [
       "<Figure size 640x480 with 1 Axes>"
      ]
     },
     "metadata": {},
     "output_type": "display_data"
    }
   ],
   "source": [
    "import matplotlib.pyplot as plt\n",
    "\n",
    "fig, ax = plt.subplots()\n",
    "if ups.shape[0] != 0:\n",
    "    ax.vlines(ups[:, 2], ups[:, 0], ups[:, 1], color=\"black\")\n",
    "ax.set_xlim(0 - 1, p[\"L\"] + 1)"
   ]
  },
  {
   "cell_type": "code",
   "execution_count": 189,
   "metadata": {},
   "outputs": [],
   "source": [
    "l = [1, 2]\n",
    "l.append(3)"
   ]
  }
 ],
 "metadata": {
  "kernelspec": {
   "display_name": "Python 3",
   "language": "python",
   "name": "python3"
  },
  "language_info": {
   "codemirror_mode": {
    "name": "ipython",
    "version": 3
   },
   "file_extension": ".py",
   "mimetype": "text/x-python",
   "name": "python",
   "nbconvert_exporter": "python",
   "pygments_lexer": "ipython3",
   "version": "3.11.5"
  },
  "orig_nbformat": 4
 },
 "nbformat": 4,
 "nbformat_minor": 2
}
