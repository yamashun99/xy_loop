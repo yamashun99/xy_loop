{
 "cells": [
  {
   "cell_type": "code",
   "execution_count": 511,
   "metadata": {},
   "outputs": [],
   "source": [
    "import random\n",
    "import conf\n",
    "import importlib\n",
    "import numpy as np\n",
    "\n",
    "importlib.reload(conf)\n",
    "from conf import *"
   ]
  },
  {
   "cell_type": "code",
   "execution_count": 512,
   "metadata": {},
   "outputs": [],
   "source": [
    "p = {\"beta\": 10, \"J\": 1, \"L\": 2}\n",
    "c = Conf(**p)"
   ]
  },
  {
   "cell_type": "code",
   "execution_count": 513,
   "metadata": {},
   "outputs": [
    {
     "name": "stdout",
     "output_type": "stream",
     "text": [
      "[[], []]\n"
     ]
    }
   ],
   "source": [
    "print(c.kinks)"
   ]
  },
  {
   "cell_type": "code",
   "execution_count": 514,
   "metadata": {},
   "outputs": [],
   "source": [
    "c.add_kinks(0, 1.1, \"d\")\n",
    "c.add_kinks(0, 9.1, \"d\")\n",
    "c.add_kinks(1, 3.1, \"d\")\n",
    "c.add_kinks(1, 6.1, \"d\")"
   ]
  },
  {
   "cell_type": "code",
   "execution_count": 515,
   "metadata": {},
   "outputs": [
    {
     "name": "stdout",
     "output_type": "stream",
     "text": [
      "[[kink(ktau=1.1, graph='d'), kink(ktau=9.1, graph='d')], [kink(ktau=3.1, graph='d'), kink(ktau=6.1, graph='d')]]\n"
     ]
    }
   ],
   "source": [
    "print(c.kinks)"
   ]
  },
  {
   "cell_type": "code",
   "execution_count": 516,
   "metadata": {},
   "outputs": [],
   "source": [
    "c.make_b()\n",
    "c.make_btilde()"
   ]
  },
  {
   "cell_type": "code",
   "execution_count": 517,
   "metadata": {},
   "outputs": [
    {
     "data": {
      "text/plain": [
       "[[b(kx=0, ktau=1.1, iktau=0, LR=1),\n",
       "  b(kx=1, ktau=3.1, iktau=0, LR=-1),\n",
       "  b(kx=1, ktau=6.1, iktau=1, LR=-1),\n",
       "  b(kx=0, ktau=9.1, iktau=1, LR=1)],\n",
       " [b(kx=0, ktau=1.1, iktau=0, LR=-1),\n",
       "  b(kx=1, ktau=3.1, iktau=0, LR=1),\n",
       "  b(kx=1, ktau=6.1, iktau=1, LR=1),\n",
       "  b(kx=0, ktau=9.1, iktau=1, LR=-1)]]"
      ]
     },
     "execution_count": 517,
     "metadata": {},
     "output_type": "execute_result"
    }
   ],
   "source": [
    "c.bs"
   ]
  },
  {
   "cell_type": "code",
   "execution_count": 518,
   "metadata": {},
   "outputs": [
    {
     "data": {
      "text/plain": [
       "{(0, 0, 1): (0, 0),\n",
       " (1, 0, -1): (0, 1),\n",
       " (1, 1, -1): (0, 2),\n",
       " (0, 1, 1): (0, 3),\n",
       " (0, 0, -1): (1, 0),\n",
       " (1, 0, 1): (1, 1),\n",
       " (1, 1, 1): (1, 2),\n",
       " (0, 1, -1): (1, 3)}"
      ]
     },
     "execution_count": 518,
     "metadata": {},
     "output_type": "execute_result"
    }
   ],
   "source": [
    "c.btilde"
   ]
  },
  {
   "cell_type": "code",
   "execution_count": 519,
   "metadata": {},
   "outputs": [
    {
     "name": "stdout",
     "output_type": "stream",
     "text": [
      "[[[0, 0], [0, 1], [0, 2], [0, 3]], [[1, 0], [1, 1], [1, 2], [1, 3]]]\n"
     ]
    }
   ],
   "source": [
    "c.cluster_update()"
   ]
  },
  {
   "cell_type": "code",
   "execution_count": 520,
   "metadata": {},
   "outputs": [
    {
     "data": {
      "text/plain": [
       "{(0, 0, 1): (0, 0),\n",
       " (1, 0, -1): (0, 1),\n",
       " (1, 1, -1): (0, 2),\n",
       " (0, 1, 1): (0, 3),\n",
       " (0, 0, -1): (1, 0),\n",
       " (1, 0, 1): (1, 1),\n",
       " (1, 1, 1): (1, 2),\n",
       " (0, 1, -1): (1, 3)}"
      ]
     },
     "execution_count": 520,
     "metadata": {},
     "output_type": "execute_result"
    }
   ],
   "source": [
    "c.btilde"
   ]
  },
  {
   "cell_type": "code",
   "execution_count": 521,
   "metadata": {},
   "outputs": [
    {
     "data": {
      "text/plain": [
       "[[[0, 0], [0, 1], [0, 0], [0, 1]], [[0, 3], [0, 0], [0, 3], [0, 0]]]"
      ]
     },
     "execution_count": 521,
     "metadata": {},
     "output_type": "execute_result"
    }
   ],
   "source": [
    "c.cluster"
   ]
  },
  {
   "cell_type": "code",
   "execution_count": 522,
   "metadata": {},
   "outputs": [
    {
     "data": {
      "text/plain": [
       "[[b(kx=0, ktau=1.1, iktau=0, LR=1),\n",
       "  b(kx=1, ktau=3.1, iktau=0, LR=-1),\n",
       "  b(kx=1, ktau=6.1, iktau=1, LR=-1),\n",
       "  b(kx=0, ktau=9.1, iktau=1, LR=1)],\n",
       " [b(kx=0, ktau=1.1, iktau=0, LR=-1),\n",
       "  b(kx=1, ktau=3.1, iktau=0, LR=1),\n",
       "  b(kx=1, ktau=6.1, iktau=1, LR=1),\n",
       "  b(kx=0, ktau=9.1, iktau=1, LR=-1)]]"
      ]
     },
     "execution_count": 522,
     "metadata": {},
     "output_type": "execute_result"
    }
   ],
   "source": [
    "c.bs"
   ]
  },
  {
   "cell_type": "code",
   "execution_count": 523,
   "metadata": {},
   "outputs": [
    {
     "name": "stdout",
     "output_type": "stream",
     "text": [
      "1 0\n"
     ]
    }
   ],
   "source": [
    "bx = 0\n",
    "ibtau = 0\n",
    "iktau = c.bs[bx][ibtau].iktau\n",
    "kx = c.bs[bx][ibtau].kx\n",
    "LR = c.bs[bx][ibtau].LR\n",
    "bx1, ibtau1 = c.btilde[(kx, iktau, -LR)]\n",
    "print(bx1, ibtau1)"
   ]
  },
  {
   "cell_type": "code",
   "execution_count": 524,
   "metadata": {},
   "outputs": [],
   "source": [
    "bx2 = bx\n",
    "ibtau2 = ibtau - 1"
   ]
  },
  {
   "cell_type": "code",
   "execution_count": 525,
   "metadata": {},
   "outputs": [],
   "source": [
    "bx3 = bx1\n",
    "ibtau3 = ibtau1 - 1"
   ]
  },
  {
   "cell_type": "code",
   "execution_count": 526,
   "metadata": {},
   "outputs": [
    {
     "data": {
      "text/plain": [
       "(0, -1)"
      ]
     },
     "execution_count": 526,
     "metadata": {},
     "output_type": "execute_result"
    }
   ],
   "source": [
    "bx2, ibtau2"
   ]
  },
  {
   "cell_type": "code",
   "execution_count": 527,
   "metadata": {},
   "outputs": [
    {
     "name": "stdout",
     "output_type": "stream",
     "text": [
      "0 -1\n",
      "1 -1\n"
     ]
    }
   ],
   "source": [
    "print(bx2, ibtau2)\n",
    "print(bx3, ibtau3)"
   ]
  },
  {
   "cell_type": "code",
   "execution_count": 528,
   "metadata": {},
   "outputs": [
    {
     "name": "stdout",
     "output_type": "stream",
     "text": [
      "[0, 1]\n",
      "[0, 0]\n"
     ]
    }
   ],
   "source": [
    "print(c.cluster[bx2][ibtau2])\n",
    "print(c.cluster[bx3][ibtau3])"
   ]
  }
 ],
 "metadata": {
  "kernelspec": {
   "display_name": "Python 3",
   "language": "python",
   "name": "python3"
  },
  "language_info": {
   "codemirror_mode": {
    "name": "ipython",
    "version": 3
   },
   "file_extension": ".py",
   "mimetype": "text/x-python",
   "name": "python",
   "nbconvert_exporter": "python",
   "pygments_lexer": "ipython3",
   "version": "3.11.5"
  },
  "orig_nbformat": 4
 },
 "nbformat": 4,
 "nbformat_minor": 2
}
